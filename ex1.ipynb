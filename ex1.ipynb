{
 "cells": [
  {
   "cell_type": "code",
   "execution_count": 7,
   "metadata": {},
   "outputs": [
    {
     "name": "stdout",
     "output_type": "stream",
     "text": [
      "8 is even\n"
     ]
    }
   ],
   "source": [
    "n=int(input())\n",
    "if n%2==0:\n",
    "    print (f\"{n} is even\")\n",
    "else:\n",
    "    print (f\"{n} is odd\")\n",
    "\n",
    "\n"
   ]
  },
  {
   "cell_type": "code",
   "execution_count": 15,
   "metadata": {},
   "outputs": [
    {
     "name": "stdout",
     "output_type": "stream",
     "text": [
      "False\n"
     ]
    }
   ],
   "source": [
    "def check_status(a,b,flag) :\n",
    "    if (a<0 or b<0) and flag == False:\n",
    "        return True\n",
    "    elif a<0 and b<0 and flag == True:\n",
    "        return True\n",
    "    else:\n",
    "        return False\n",
    "    \n",
    "a=int(input())\n",
    "b=int(input())\n",
    "flag=bool(input())\n",
    "print(check_status(a,b,flag))\n",
    "    "
   ]
  },
  {
   "cell_type": "code",
   "execution_count": null,
   "metadata": {},
   "outputs": [],
   "source": [
    "def check_friend(j_angry, m_angry):\n",
    "    if j_angry == True and m_angry == True:\n",
    "        return True\n",
    "    elif j_angry == False and m_angry == False:\n",
    "        return True\n",
    "    else:\n",
    "        return False\n",
    "    \n",
    "j_angry=bool(input())\n",
    "m_angry=bool(input())\n",
    "print(check_friend(j_angry, m_angry))"
   ]
  }
 ],
 "metadata": {
  "kernelspec": {
   "display_name": "Python 3",
   "language": "python",
   "name": "python3"
  },
  "language_info": {
   "codemirror_mode": {
    "name": "ipython",
    "version": 3
   },
   "file_extension": ".py",
   "mimetype": "text/x-python",
   "name": "python",
   "nbconvert_exporter": "python",
   "pygments_lexer": "ipython3",
   "version": "3.12.0"
  }
 },
 "nbformat": 4,
 "nbformat_minor": 2
}
